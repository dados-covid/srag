{
 "cells": [
  {
   "cell_type": "markdown",
   "metadata": {},
   "source": [
    "# Nota Técnica - Sociedade Brasileira de Pediatria\n",
    "> Dados Epidemiológicos da COVID-19 em Pediatria\n",
    "\n",
    "https://www.sbp.com.br/fileadmin/user_upload/22972b-NT_-_Dados_Epidem_COVID-19_em_Pediatria.pdf"
   ]
  },
  {
   "cell_type": "markdown",
   "metadata": {},
   "source": [
    "## Objetivo do estudo\n",
    "- Tentar reproduzir os resultados apresentados\n",
    "- Fazer o mesmo gráfico ao longo dos meses ou das semanas epidemiológicas\n",
    "- Fazer o mesmo gráfico com recorte por estados (ex. AM)"
   ]
  },
  {
   "cell_type": "markdown",
   "metadata": {},
   "source": [
    "## Carregamento dos dados"
   ]
  },
  {
   "cell_type": "markdown",
   "metadata": {},
   "source": [
    "Descrição das colunas: [dicionario-de-dados-srag-hospitalizado-27.07.2020-final.pdf](https://opendatasus.saude.gov.br/dataset/9f76e80f-a2f1-4662-9e37-71084eae23e3/resource/b3321e55-24e9-49ab-8651-29cf5c8f3179/download/dicionario-de-dados-srag-hospitalizado-27.07.2020-final.pdf)\n"
   ]
  },
  {
   "cell_type": "code",
   "execution_count": null,
   "metadata": {},
   "outputs": [],
   "source": [
    "#hide\n",
    "# %run update_srag_database.py"
   ]
  },
  {
   "cell_type": "code",
   "execution_count": null,
   "metadata": {},
   "outputs": [],
   "source": [
    "#hide\n",
    "\n",
    "import sqlite3 as sql\n",
    "import pandas as pd\n",
    "import numpy as np\n",
    "import matplotlib.pyplot as plt\n",
    "from srag_functions import *\n",
    "\n",
    "db_name = 'srag'\n",
    "db_path = f'data/opendatasus/{db_name}.db'\n",
    "conn = sql.connect(db_path)\n",
    "df_srag = pd.read_sql(f'SELECT * FROM {db_name} WHERE ano >= 2020', conn)"
   ]
  },
  {
   "cell_type": "code",
   "execution_count": null,
   "metadata": {},
   "outputs": [],
   "source": [
    "#hide\n",
    "\n",
    "assert df_srag.shape[1]==32"
   ]
  },
  {
   "cell_type": "markdown",
   "metadata": {},
   "source": [
    "## Reprodução dos resultados"
   ]
  },
  {
   "cell_type": "markdown",
   "metadata": {},
   "source": [
    "Gráfico 1: Proporção de hospitalizações e de mortes atribuídas à COVID-19 em crianças e adolescentes de 0 a 19 anos em 2020 e 2021"
   ]
  },
  {
   "cell_type": "code",
   "execution_count": null,
   "metadata": {},
   "outputs": [],
   "source": [
    "df_srag_repr = df_srag.copy()\n",
    "df = df_srag_repr.groupby(['ano', 'faixa_etaria', 'EVOLUCAO']).size()\n",
    "\n",
    "categories = [2020, 2021]\n",
    "df_graf1 = pd.DataFrame(columns=[2020, 2021])\n",
    "for cat in categories: \n",
    "    data = []\n",
    "    data.append(df.loc[cat, '00-20'].sum() / df.loc[cat].sum() * 100) # Percentual de internacoes\n",
    "    data.append(df.loc[cat, '00-20', 'obito'].sum() / df.loc[cat, :, 'obito'].sum() * 100) # Percentual de internacoes\n",
    "    df_graf1[cat] = data"
   ]
  },
  {
   "cell_type": "code",
   "execution_count": null,
   "metadata": {},
   "outputs": [],
   "source": [
    "labels = ['Hospitalizações (%)', 'Mortes (%)']\n",
    "x = np.arange(len(labels))  # the label locations\n",
    "n = len(df_graf1.columns)\n",
    "width = 0.7 / n\n",
    "x0 = x - (n-1) * width / 2\n",
    "\n",
    "fig, ax = plt.subplots()\n",
    "fig.patch.set_facecolor((1,1,1))\n",
    "for col in df_graf1.columns:\n",
    "    rects = ax.bar(x0, np.around(df_graf1[col], 2), width, label=col)\n",
    "    ax.bar_label(rects, padding=3)\n",
    "    x0 = x0 + width\n",
    "\n",
    "# Add some text for labels, title and custom x-axis tick labels, etc.\n",
    "#ax.set_ylabel('Scores')\n",
    "ax.set_title('Proporção de hospitalizações e de mortes atribuídas à COVID-19 em \\ncrianças e adolescentes de 0 a 19 anos em 2020 e 2021\\n')\n",
    "ax.set_xticks(x)\n",
    "ax.set_xticklabels(labels)\n",
    "ax.legend()\n",
    "\n",
    "fig.tight_layout()\n",
    "\n",
    "plt.show()"
   ]
  },
  {
   "cell_type": "code",
   "execution_count": null,
   "metadata": {},
   "outputs": [],
   "source": []
  }
 ],
 "metadata": {
  "kernelspec": {
   "display_name": "Python 3",
   "language": "python",
   "name": "python3"
  },
  "language_info": {
   "codemirror_mode": {
    "name": "ipython",
    "version": 3
   },
   "file_extension": ".py",
   "mimetype": "text/x-python",
   "name": "python",
   "nbconvert_exporter": "python",
   "pygments_lexer": "ipython3",
   "version": "3.7.7"
  },
  "toc": {
   "base_numbering": 1,
   "nav_menu": {
    "height": "12.2333px",
    "width": "161px"
   },
   "number_sections": true,
   "sideBar": true,
   "skip_h1_title": false,
   "title_cell": "Table of Contents",
   "title_sidebar": "Contents",
   "toc_cell": false,
   "toc_position": {
    "height": "calc(100% - 180px)",
    "left": "10px",
    "top": "150px",
    "width": "412.717px"
   },
   "toc_section_display": true,
   "toc_window_display": true
  }
 },
 "nbformat": 4,
 "nbformat_minor": 4
}
