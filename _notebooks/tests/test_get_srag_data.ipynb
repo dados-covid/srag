{
 "cells": [
  {
   "cell_type": "code",
   "execution_count": null,
   "id": "d535a84b-8bef-4a45-800d-ba46b17c0e53",
   "metadata": {},
   "outputs": [],
   "source": [
    "import pandas as pd\n",
    "import numpy as np\n",
    "import matplotlib.pyplot as plt\n",
    "\n",
    "# import sys\n",
    "# sys.path.append('../')\n",
    "\n",
    "import os\n",
    "os.chdir(\"../\")\n",
    "\n",
    "from srag_functions import *\n"
   ]
  },
  {
   "cell_type": "code",
   "execution_count": null,
   "id": "7c0fb219-f845-4f86-85cd-a52421749322",
   "metadata": {},
   "outputs": [],
   "source": [
    "df_original = get_srag_data(years=[2021],update=False,save_local=False,treat=False)"
   ]
  },
  {
   "cell_type": "code",
   "execution_count": null,
   "id": "81a44bed-0fd3-4b7d-9fac-5f8364d46e97",
   "metadata": {},
   "outputs": [],
   "source": [
    "df = treat_srag_data(df_original,selected_columns='BASIC')\n",
    "\n",
    "ref_list = ['DT_SIN_PRI','DT_EVOLUCA','DT_NASC', 'DT_ENTUTI','CO_MUN_RES','CO_MU_INTE','CO_MUN_NOT','SEM_PRI','EVOLUCAO',\n",
    "            'CLASSI_FIN','CLASSI_OUT','NU_IDADE_N','CS_RACA','CS_ESCOL_N','CS_SEXO','SUPORT_VEN','UTI','SATURACAO','FATOR_RISC',\n",
    "            'idade_anos','faixa_etaria','SEM_PRI_ABS','MUN_RES','UF_RES','REGIAO_RES','MUN_INTE','UF_INTE','REGIAO_INTE','MUN_NOT',\n",
    "            'UF_NOT','REGIAO_NOT']\n",
    "assert df.columns.to_list() == ref_list"
   ]
  },
  {
   "cell_type": "code",
   "execution_count": null,
   "id": "035163e0-b69c-4dde-8ce5-348c24b8689d",
   "metadata": {
    "tags": []
   },
   "outputs": [],
   "source": [
    "# df = get_srag_data(years=[2021],update=False,save_local=False,treat=True,selected_columns='NOT_BASIC',aditional_columns=['ID_UNIDADE'])\n",
    "\n",
    "df = treat_srag_data(df_original,aditional_columns=['ID_UNIDADE','DS_AN_OUT'])\n",
    "\n",
    "assert 'ID_UNIDADE' in df.columns\n",
    "assert 'DS_AN_OUT' in df.columns\n",
    "assert df.columns.shape[0] == 33"
   ]
  },
  {
   "cell_type": "code",
   "execution_count": null,
   "id": "a0b80d2f-1029-4d89-ad1f-1dd3b16fe3a7",
   "metadata": {},
   "outputs": [],
   "source": [
    "df = treat_srag_data(df_original,selected_columns='ALL')\n",
    "assert df.columns.shape[0] == 166\n",
    "assert set(df_original.columns).issubset(set(df.columns))"
   ]
  },
  {
   "cell_type": "code",
   "execution_count": null,
   "id": "14e748f2-5fd8-4d18-af2a-2e6d5f4c2cad",
   "metadata": {},
   "outputs": [],
   "source": []
  }
 ],
 "metadata": {
  "kernelspec": {
   "display_name": "Python 3",
   "language": "python",
   "name": "python3"
  },
  "language_info": {
   "codemirror_mode": {
    "name": "ipython",
    "version": 3
   },
   "file_extension": ".py",
   "mimetype": "text/x-python",
   "name": "python",
   "nbconvert_exporter": "python",
   "pygments_lexer": "ipython3",
   "version": "3.7.10"
  }
 },
 "nbformat": 4,
 "nbformat_minor": 5
}
